{
 "cells": [
  {
   "cell_type": "markdown",
   "id": "ef1568f2",
   "metadata": {},
   "source": [
    "# Hi Safiyah! \n",
    "## Text Setup\n",
    "<p>As you know, a lot of pages have a lot of design html\n",
    "but when we are scraping, we only ever need like the html that holds the table\n",
    "So, this initial code is setting up the scrape by hunting down the html that holds the table\n",
    "i will use my <a href= https://github.com/sajinashresthacoding/Rubin-scrape> repository </a> as an example and try to follow/set up the table the same way</p>"
   ]
  },
  {
   "cell_type": "code",
   "execution_count": 5,
   "id": "35aef3eb",
   "metadata": {},
   "outputs": [],
   "source": [
    "##import libraries that we are going to need\n",
    "##it's easier to import them all at once instead of having to import when you need\n",
    "import pandas as pd\n",
    "import requests\n",
    "from bs4 import BeautifulSoup\n",
    "import time\n",
    "from random import randrange"
   ]
  },
  {
   "cell_type": "code",
   "execution_count": 6,
   "id": "f2c7e0c0",
   "metadata": {},
   "outputs": [
    {
     "name": "stdout",
     "output_type": "stream",
     "text": [
      "Requirement already satisfied: wget in /Users/sajinashrestha/opt/anaconda3/lib/python3.9/site-packages (3.2)\n",
      "Note: you may need to restart the kernel to use updated packages.\n"
     ]
    }
   ],
   "source": [
    "pip install wget"
   ]
  },
  {
   "cell_type": "code",
   "execution_count": 7,
   "id": "76c6f5ae",
   "metadata": {},
   "outputs": [],
   "source": [
    "import wget"
   ]
  },
  {
   "cell_type": "code",
   "execution_count": 8,
   "id": "d7f2a7c2",
   "metadata": {},
   "outputs": [],
   "source": [
    "##let's make a function to test and see if it is a functioning url but also because\n",
    "##when we make this function, we can easily check other urls that we have\n",
    "##general rule of thumb is if your response is between 200 and 400, you are good\n",
    "\n",
    "def mk_request(url):\n",
    "    '''\n",
    "    Takes the url and gives you status and returns responses\n",
    "    '''\n",
    "    response = requests.get(url)\n",
    "    if 200 <= response.status_code < 400:\n",
    "        return response\n",
    "    else:\n",
    "        print(f\"request returned {response.status_code}error\")"
   ]
  },
  {
   "cell_type": "code",
   "execution_count": null,
   "id": "3005b5f1",
   "metadata": {},
   "outputs": [],
   "source": []
  }
 ],
 "metadata": {
  "kernelspec": {
   "display_name": "Python 3 (ipykernel)",
   "language": "python",
   "name": "python3"
  },
  "language_info": {
   "codemirror_mode": {
    "name": "ipython",
    "version": 3
   },
   "file_extension": ".py",
   "mimetype": "text/x-python",
   "name": "python",
   "nbconvert_exporter": "python",
   "pygments_lexer": "ipython3",
   "version": "3.9.13"
  }
 },
 "nbformat": 4,
 "nbformat_minor": 5
}
